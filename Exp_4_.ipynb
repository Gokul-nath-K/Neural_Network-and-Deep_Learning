{
  "nbformat": 4,
  "nbformat_minor": 0,
  "metadata": {
    "colab": {
      "provenance": [],
      "authorship_tag": "ABX9TyNkFMrbbmKb1RNJsTO5i58R",
      "include_colab_link": true
    },
    "kernelspec": {
      "name": "python3",
      "display_name": "Python 3"
    },
    "language_info": {
      "name": "python"
    }
  },
  "cells": [
    {
      "cell_type": "markdown",
      "metadata": {
        "id": "view-in-github",
        "colab_type": "text"
      },
      "source": [
        "<a href=\"https://colab.research.google.com/github/Gokul-nath-K/Neural_Network-and-Deep_Learning/blob/main/Exp_4_.ipynb\" target=\"_parent\"><img src=\"https://colab.research.google.com/assets/colab-badge.svg\" alt=\"Open In Colab\"/></a>"
      ]
    },
    {
      "cell_type": "markdown",
      "source": [
        "##Experiment - 4\n",
        "\n",
        "###Implement a Feed-Forward Network in TensorFlow/Keras."
      ],
      "metadata": {
        "id": "eF8R4Ro1i0om"
      }
    },
    {
      "cell_type": "code",
      "execution_count": 4,
      "metadata": {
        "id": "maxtza-zib-E"
      },
      "outputs": [],
      "source": [
        "import numpy as np\n",
        "import tensorflow as tf\n",
        "from tensorflow import keras\n",
        "from tensorflow.keras.layers import Dense\n",
        "from sklearn.model_selection import train_test_split\n",
        "\n",
        "from sklearn.datasets import make_classification"
      ]
    },
    {
      "cell_type": "code",
      "source": [
        "X,y= make_classification(n_samples=1000, n_features=20, random_state=42)"
      ],
      "metadata": {
        "id": "RNE2KOAfi9Ai"
      },
      "execution_count": 5,
      "outputs": []
    },
    {
      "cell_type": "code",
      "source": [
        "X_train, X_test, y_train, y_test = train_test_split(X, y, test_size=0.2, random_state=42)"
      ],
      "metadata": {
        "id": "DI5AoS0IjAQi"
      },
      "execution_count": 6,
      "outputs": []
    },
    {
      "cell_type": "code",
      "source": [
        "model = keras.Sequential()\n",
        "\n",
        "model.add(Dense(64, input_shape=(20,), activation='relu'))\n",
        "\n",
        "model.add(Dense(1, activation='sigmoid'))"
      ],
      "metadata": {
        "id": "PC7y_6fBjEwl"
      },
      "execution_count": 7,
      "outputs": []
    },
    {
      "cell_type": "code",
      "source": [
        "model.compile(optimizer='adam',loss='binary_crossentropy', metrics=['accuracy'])\n"
      ],
      "metadata": {
        "id": "i9DCABOHjR6Z"
      },
      "execution_count": 8,
      "outputs": []
    },
    {
      "cell_type": "code",
      "source": [
        "model.fit(X_train,y_train,epochs=10,batch_size=32,verbose=1, validation_data=(X_test, y_test))"
      ],
      "metadata": {
        "colab": {
          "base_uri": "https://localhost:8080/"
        },
        "id": "51L0VZ2jjYN1",
        "outputId": "1dfac535-e7aa-4d07-d891-32e2532a2473"
      },
      "execution_count": 9,
      "outputs": [
        {
          "output_type": "stream",
          "name": "stdout",
          "text": [
            "Epoch 1/10\n",
            "25/25 [==============================] - 1s 17ms/step - loss: 0.6729 - accuracy: 0.5750 - val_loss: 0.6421 - val_accuracy: 0.6200\n",
            "Epoch 2/10\n",
            "25/25 [==============================] - 0s 5ms/step - loss: 0.5366 - accuracy: 0.7675 - val_loss: 0.5446 - val_accuracy: 0.7550\n",
            "Epoch 3/10\n",
            "25/25 [==============================] - 0s 5ms/step - loss: 0.4565 - accuracy: 0.8350 - val_loss: 0.4873 - val_accuracy: 0.7900\n",
            "Epoch 4/10\n",
            "25/25 [==============================] - 0s 5ms/step - loss: 0.4039 - accuracy: 0.8637 - val_loss: 0.4512 - val_accuracy: 0.8400\n",
            "Epoch 5/10\n",
            "25/25 [==============================] - 0s 5ms/step - loss: 0.3707 - accuracy: 0.8725 - val_loss: 0.4224 - val_accuracy: 0.8400\n",
            "Epoch 6/10\n",
            "25/25 [==============================] - 0s 5ms/step - loss: 0.3445 - accuracy: 0.8750 - val_loss: 0.4052 - val_accuracy: 0.8500\n",
            "Epoch 7/10\n",
            "25/25 [==============================] - 0s 6ms/step - loss: 0.3271 - accuracy: 0.8800 - val_loss: 0.3940 - val_accuracy: 0.8600\n",
            "Epoch 8/10\n",
            "25/25 [==============================] - 0s 5ms/step - loss: 0.3128 - accuracy: 0.8838 - val_loss: 0.3839 - val_accuracy: 0.8650\n",
            "Epoch 9/10\n",
            "25/25 [==============================] - 0s 7ms/step - loss: 0.3026 - accuracy: 0.8850 - val_loss: 0.3772 - val_accuracy: 0.8650\n",
            "Epoch 10/10\n",
            "25/25 [==============================] - 0s 5ms/step - loss: 0.2946 - accuracy: 0.8888 - val_loss: 0.3755 - val_accuracy: 0.8600\n"
          ]
        },
        {
          "output_type": "execute_result",
          "data": {
            "text/plain": [
              "<keras.src.callbacks.History at 0x7d7680cf4d90>"
            ]
          },
          "metadata": {},
          "execution_count": 9
        }
      ]
    },
    {
      "cell_type": "code",
      "source": [
        "loss, accuracy = model.evaluate(X_test, y_test)\n",
        "print(f\"Loss: {loss}\")\n",
        "print(f\"Accuracy: {accuracy}\")"
      ],
      "metadata": {
        "colab": {
          "base_uri": "https://localhost:8080/"
        },
        "id": "47AokY99jeJ9",
        "outputId": "4a128cd5-896c-4b09-98c9-84242bc11436"
      },
      "execution_count": 10,
      "outputs": [
        {
          "output_type": "stream",
          "name": "stdout",
          "text": [
            "7/7 [==============================] - 0s 3ms/step - loss: 0.3755 - accuracy: 0.8600\n",
            "Loss: 0.37549200654029846\n",
            "Accuracy: 0.8600000143051147\n"
          ]
        }
      ]
    }
  ]
}