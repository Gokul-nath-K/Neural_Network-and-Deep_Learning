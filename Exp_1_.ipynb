{
  "nbformat": 4,
  "nbformat_minor": 0,
  "metadata": {
    "colab": {
      "provenance": [],
      "authorship_tag": "ABX9TyM8bXdlqMhHJTqR0ZV6x3oz",
      "include_colab_link": true
    },
    "kernelspec": {
      "name": "python3",
      "display_name": "Python 3"
    },
    "language_info": {
      "name": "python"
    }
  },
  "cells": [
    {
      "cell_type": "markdown",
      "metadata": {
        "id": "view-in-github",
        "colab_type": "text"
      },
      "source": [
        "<a href=\"https://colab.research.google.com/github/Gokul-nath-K/Neural_Network-and-Deep_Learning/blob/main/Exp_1_.ipynb\" target=\"_parent\"><img src=\"https://colab.research.google.com/assets/colab-badge.svg\" alt=\"Open In Colab\"/></a>"
      ]
    },
    {
      "cell_type": "markdown",
      "source": [
        "###Experiment - 1\n",
        "\n",
        "Neural networks and Deep learing\n"
      ],
      "metadata": {
        "id": "QFLFlOfMdfM2"
      }
    },
    {
      "cell_type": "code",
      "source": [
        "import tensorflow as tf"
      ],
      "metadata": {
        "id": "tB2YOouddx14"
      },
      "execution_count": 3,
      "outputs": []
    },
    {
      "cell_type": "code",
      "execution_count": 4,
      "metadata": {
        "id": "m6DtKZYodKH6"
      },
      "outputs": [],
      "source": [
        "vector1 = tf.constant([1.0, 2.0, 3.0])\n",
        "vector2 = tf.constant([4.0, 5.0, 6.0])"
      ]
    },
    {
      "cell_type": "code",
      "source": [
        "result = tf.add(vector1, vector2)"
      ],
      "metadata": {
        "id": "7yg3RY-Nd2Pc"
      },
      "execution_count": 5,
      "outputs": []
    },
    {
      "cell_type": "code",
      "source": [
        "print(result.numpy())"
      ],
      "metadata": {
        "colab": {
          "base_uri": "https://localhost:8080/"
        },
        "id": "EZhoC9jjd8ue",
        "outputId": "befc5722-51d7-435b-c145-8375cb7eb408"
      },
      "execution_count": 14,
      "outputs": [
        {
          "output_type": "stream",
          "name": "stdout",
          "text": [
            "[5. 7. 9.]\n"
          ]
        }
      ]
    }
  ]
}